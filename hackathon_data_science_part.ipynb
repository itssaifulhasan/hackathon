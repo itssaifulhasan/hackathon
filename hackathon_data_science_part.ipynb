{
 "cells": [
  {
   "cell_type": "code",
   "execution_count": 1,
   "metadata": {},
   "outputs": [],
   "source": [
    "import pandas as pd\n",
    "import numpy as np\n",
    "import matplotlib.pyplot as plt\n",
    "import seaborn as sns\n",
    "import datetime as dt\n",
    "import time\n",
    "import requests\n",
    "import nltk\n",
    "import re\n",
    "from nltk.stem import WordNetLemmatizer #Import lemmatizer\n",
    "from nltk.tokenize import RegexpTokenizer # Import Tokenizer\n",
    "import matplotlib.pyplot as plt\n",
    "from sklearn.feature_extraction.text import CountVectorizer\n",
    "from vaderSentiment.vaderSentiment import SentimentIntensityAnalyzer\n",
    "\n",
    "RANDOM_STATE = 42\n",
    "\n",
    "%matplotlib inline "
   ]
  },
  {
   "cell_type": "markdown",
   "metadata": {},
   "source": [
    "### Useful functions"
   ]
  },
  {
   "cell_type": "code",
   "execution_count": 17,
   "metadata": {},
   "outputs": [],
   "source": [
    "#adopted from Mahdi Shadkam-Farrokhi's code\n",
    "\n",
    "def query_pushshift(subreddit, kind = 'submission', day_window = 30, n = 20):\n",
    "    SUBFIELDS = ['title', 'selftext', 'subreddit', 'created_utc', 'author', 'is_self']\n",
    "    \n",
    "    # establish base url and stem\n",
    "    BASE_URL = f\"https://api.pushshift.io/reddit/search/{kind}\" # also known as the \"API endpoint\" \n",
    "    stem1 = f\"{BASE_URL}?q=\"\n",
    "    stem = f\"{BASE_URL}?subreddit={subreddit}&size=500\" # always pulling max of 500\n",
    "    \n",
    "    # instantiate empty list for temp storage\n",
    "    posts = []\n",
    "    \n",
    "    # implement for loop with `time.sleep(2)`\n",
    "    for i in range(1, n + 1):\n",
    "        URL = \"{}&after={}d\".format(stem, day_window * i)\n",
    "        print(\"Querying from: \" + URL)\n",
    "        response = requests.get(URL)\n",
    "        assert response.status_code == 200\n",
    "        mine = response.json()['data']\n",
    "        df = pd.DataFrame.from_dict(mine)\n",
    "        posts.append(df)\n",
    "        time.sleep(2)\n",
    "    \n",
    "    # pd.concat storage list\n",
    "    full = pd.concat(posts, sort=False)\n",
    "    \n",
    "    # if submission\n",
    "    if kind == \"submission\":\n",
    "        # select desired columns\n",
    "        full = full[SUBFIELDS]\n",
    "        # drop duplicates\n",
    "        full.drop_duplicates(inplace = True)\n",
    "        # select `is_self` == True\n",
    "        full = full.loc[full['is_self'] == True]\n",
    "\n",
    "    # create `timestamp` column\n",
    "    full['timestamp'] = full[\"created_utc\"].map(dt.date.fromtimestamp)\n",
    "    \n",
    "    print(\"Query Complete!\")    \n",
    "    return full "
   ]
  },
  {
   "cell_type": "code",
   "execution_count": 3,
   "metadata": {},
   "outputs": [],
   "source": [
    "def review_to_title(title):\n",
    "    \n",
    "    # Remove non-letters.\n",
    "    title = re.sub(\"[^a-zA-Z]\", \" \", title)\n",
    "    \n",
    "    # Convert to lower case\n",
    "    title = title.lower()\n",
    "    \n",
    "    # Remove hashtags\n",
    "    title = re.sub(r'#\\w*', '', title)\n",
    "    \n",
    "    # Remove HTML special entities (e.g. &amp;)\n",
    "    title = re.sub(r'\\&\\w*;', '', title)\n",
    "    \n",
    "    #punctuation\n",
    "    title = re.sub(r'[?|!|\\'|#]', r'', title)\n",
    "    \n",
    "    # Remove hyperlinks\n",
    "    title = re.sub(r'https?:\\/\\/.*\\/\\w*', '', title)\n",
    "    \n",
    "    # Remove whitespace (including new line characters)\n",
    "    title = re.sub(r'\\s\\s+', ' ', title)\n",
    "    \n",
    "    return title"
   ]
  },
  {
   "cell_type": "code",
   "execution_count": 4,
   "metadata": {},
   "outputs": [],
   "source": [
    "# Lemmatizing\n",
    "# ref : https://www.guru99.com/stemming-lemmatization-python-nltk.html\n",
    "# ref : Sarah Scolnik github \n",
    "\n",
    "lemmatizer = WordNetLemmatizer()\n",
    "def lemmatize_words(title):\n",
    "    words = title.split()\n",
    "    lemma_words = ''\n",
    "    for word in words:\n",
    "        lemma_words += (lemmatizer.lemmatize(word) + ' ')\n",
    "    return lemma_words"
   ]
  },
  {
   "cell_type": "code",
   "execution_count": 5,
   "metadata": {},
   "outputs": [],
   "source": [
    "# function definitions from https://github.com/fuzzymuzzywuzzy/sentiment-analysis-twitter\n",
    "analyzer = SentimentIntensityAnalyzer() #instantiates the Vader Analyzer\n",
    "\n",
    "def sentiment_score_compound(sentence):\n",
    "    score = analyzer.polarity_scores(sentence) #gets the sentmiment score from VADER\n",
    "    return score['compound'] #returns the compoud score\n",
    "\n",
    "def sentiment_score_pos(sentence):\n",
    "    score = analyzer.polarity_scores(sentence) #gets the snetiment score from VADER\n",
    "    return score['pos'] #returns the positive score\n",
    "\n",
    "def sentiment_score_neg(sentence):\n",
    "    score = analyzer.polarity_scores(sentence) #gets the sentiment score from VADER\n",
    "    return score['neg'] #returns the negative score\n",
    "\n",
    "def sentiment_score_neu(sentence):\n",
    "    score = analyzer.polarity_scores(sentence) #gets the sentiment score from VADER\n",
    "    return score['neu'] #returns the neutral score"
   ]
  },
  {
   "cell_type": "code",
   "execution_count": 6,
   "metadata": {},
   "outputs": [],
   "source": [
    "# Tangina's sentiment dataframe compiling function\n",
    "# references functions from https://github.com/fuzzymuzzywuzzy/sentiment-analysis-twitter\n",
    "\n",
    "def df_sentiment_compiler(file, base_path):\n",
    "    \"\"\"\n",
    "    This function takes in a csv file as a pandas dataframe containing at minimum a column named 'text'\n",
    "    and returns a dataframe containing sentiment scores.\n",
    "    \n",
    "    The function cleans the file by removing any extra columns and removing rows with no text.\n",
    "    \n",
    "    The function also implements SentimentIntensityAnalyzer score functions derived from the vaderSentiment package.\n",
    "    These scores are then added into new columns in the dataframe.\n",
    "    -----------------------------------------------------\n",
    "    \n",
    "    file(str)      : name of csv file\n",
    "    \n",
    "    base_path(str) : file location of csv file\n",
    "    \n",
    "    ----------------------------------------------\n",
    "    \n",
    "    \"\"\"\n",
    "    \n",
    "    \n",
    "    \n",
    "    # read in file, drop excess columns, drop nans and reset index, and convert date object to datetime\n",
    "    df = pd.read_csv(f'{base_path}{file}') #reads the dataframe\n",
    "    df.reset_index(drop=True, inplace=True)\n",
    "    \n",
    "    # instantiate empty lists\n",
    "    pos_list = [] #positive list\n",
    "    neg_list = [] #negative list\n",
    "    neu_list = [] #neutral list\n",
    "    comp_list = [] #composite list\n",
    "\n",
    "    # read in each tweet and pass through sentiment scorer, save scores in list\n",
    "    for i in range(0,len(df)):\n",
    "        \n",
    "        selftext = df['title'][i] #calls a particular cell as tweet variable\n",
    "        \n",
    "        pos = sentiment_score_pos(selftext) #grabs the positive score of the tweet\n",
    "        pos_list.append(pos) #appends the positive score to the positive list\n",
    "        \n",
    "        neg = sentiment_score_neg(selftext) #grabs the negative score of the tweet\n",
    "        neg_list.append(neg) #appends the positive score to the positive list\n",
    "        \n",
    "        neu = sentiment_score_neu(selftext) #grabs the neutral score of the tweet\n",
    "        neu_list.append(neu) #appends the positive score to the positive list\n",
    "        \n",
    "        comp = sentiment_score_compound(selftext) #grabs the composite score of the tweet\n",
    "        comp_list.append(comp) #appends the positive score to the positive list\n",
    "        \n",
    "    \n",
    "    # add new column to dataframe containing sentiment scores\n",
    "    df['pos_score'] = np.array(pos_list) #creates a positive score dataframe column\n",
    "    df['neg_score'] = np.array(neg_list) #creates a negative score dataframe column\n",
    "    df['neu_score'] = np.array(neu_list) #creates a neutral score dataframe column\n",
    "    df['comp_score'] = np.array(comp_list) #creates a composite score dataframe column\n",
    "    \n",
    "    \n",
    "    # return new dataframe\n",
    "    return df #returns the dataframe"
   ]
  },
  {
   "cell_type": "code",
   "execution_count": 77,
   "metadata": {},
   "outputs": [],
   "source": [
    "# Tangina's sentiment dataframe compiling function\n",
    "# references functions from https://github.com/fuzzymuzzywuzzy/sentiment-analysis-twitter\n",
    "\n",
    "def df_sentiment_compiler(file, base_path):\n",
    "    \"\"\"\n",
    "    This function takes in a csv file as a pandas dataframe containing at minimum a column named 'text'\n",
    "    and returns a dataframe containing sentiment scores.\n",
    "    \n",
    "    The function cleans the file by removing any extra columns and removing rows with no text.\n",
    "    \n",
    "    The function also implements SentimentIntensityAnalyzer score functions derived from the vaderSentiment package.\n",
    "    These scores are then added into new columns in the dataframe.\n",
    "    -----------------------------------------------------\n",
    "    \n",
    "    file(str)      : name of csv file\n",
    "    \n",
    "    base_path(str) : file location of csv file\n",
    "    \n",
    "    ----------------------------------------------\n",
    "    \n",
    "    \"\"\"\n",
    "    \n",
    "    \n",
    "    \n",
    "    # read in file, drop excess columns, drop nans and reset index, and convert date object to datetime\n",
    "    df = pd.read_csv(f'{base_path}{file}') #reads the dataframe\n",
    "    df.dropna(inplace=True)\n",
    "    df.reset_index(drop=True, inplace=True)\n",
    "    \n",
    "    # instantiate empty lists\n",
    "    pos_list = [] #positive list\n",
    "    neg_list = [] #negative list\n",
    "    neu_list = [] #neutral list\n",
    "    comp_list = [] #composite list\n",
    "\n",
    "    # read in each tweet and pass through sentiment scorer, save scores in list\n",
    "    for i in range(0,len(df)):\n",
    "        \n",
    "        selftext = df['text'][i] #calls a particular cell as tweet variable\n",
    "        \n",
    "        pos = sentiment_score_pos(selftext) #grabs the positive score of the tweet\n",
    "        pos_list.append(pos) #appends the positive score to the positive list\n",
    "        \n",
    "        neg = sentiment_score_neg(selftext) #grabs the negative score of the tweet\n",
    "        neg_list.append(neg) #appends the positive score to the positive list\n",
    "        \n",
    "        neu = sentiment_score_neu(selftext) #grabs the neutral score of the tweet\n",
    "        neu_list.append(neu) #appends the positive score to the positive list\n",
    "        \n",
    "        comp = sentiment_score_compound(selftext) #grabs the composite score of the tweet\n",
    "        comp_list.append(comp) #appends the positive score to the positive list\n",
    "        \n",
    "    \n",
    "    # add new column to dataframe containing sentiment scores\n",
    "    df['pos_score'] = np.array(pos_list) #creates a positive score dataframe column\n",
    "    df['neg_score'] = np.array(neg_list) #creates a negative score dataframe column\n",
    "    df['neu_score'] = np.array(neu_list) #creates a neutral score dataframe column\n",
    "    df['comp_score'] = np.array(comp_list) #creates a composite score dataframe column\n",
    "    \n",
    "    \n",
    "    # return new dataframe\n",
    "    return df #returns the dataframe"
   ]
  },
  {
   "cell_type": "markdown",
   "metadata": {},
   "source": [
    "### Exploratory Data Analysis"
   ]
  },
  {
   "cell_type": "markdown",
   "metadata": {},
   "source": [
    "#### Technology Adaptation"
   ]
  },
  {
   "cell_type": "code",
   "execution_count": 7,
   "metadata": {},
   "outputs": [],
   "source": [
    "technology_adaptation = pd.read_csv('usa_technology_adaptation.csv')"
   ]
  },
  {
   "cell_type": "code",
   "execution_count": 8,
   "metadata": {},
   "outputs": [
    {
     "data": {
      "text/html": [
       "<div>\n",
       "<style scoped>\n",
       "    .dataframe tbody tr th:only-of-type {\n",
       "        vertical-align: middle;\n",
       "    }\n",
       "\n",
       "    .dataframe tbody tr th {\n",
       "        vertical-align: top;\n",
       "    }\n",
       "\n",
       "    .dataframe thead th {\n",
       "        text-align: right;\n",
       "    }\n",
       "</style>\n",
       "<table border=\"1\" class=\"dataframe\">\n",
       "  <thead>\n",
       "    <tr style=\"text-align: right;\">\n",
       "      <th></th>\n",
       "      <th>Entity</th>\n",
       "      <th>Code</th>\n",
       "      <th>Year</th>\n",
       "      <th>Individuals using the Internet (% of population) (% of population)</th>\n",
       "    </tr>\n",
       "  </thead>\n",
       "  <tbody>\n",
       "    <tr>\n",
       "      <th>0</th>\n",
       "      <td>United States</td>\n",
       "      <td>USA</td>\n",
       "      <td>1990</td>\n",
       "      <td>0.784729</td>\n",
       "    </tr>\n",
       "    <tr>\n",
       "      <th>1</th>\n",
       "      <td>United States</td>\n",
       "      <td>USA</td>\n",
       "      <td>1991</td>\n",
       "      <td>1.163194</td>\n",
       "    </tr>\n",
       "    <tr>\n",
       "      <th>2</th>\n",
       "      <td>United States</td>\n",
       "      <td>USA</td>\n",
       "      <td>1992</td>\n",
       "      <td>1.724203</td>\n",
       "    </tr>\n",
       "    <tr>\n",
       "      <th>3</th>\n",
       "      <td>United States</td>\n",
       "      <td>USA</td>\n",
       "      <td>1993</td>\n",
       "      <td>2.271673</td>\n",
       "    </tr>\n",
       "    <tr>\n",
       "      <th>4</th>\n",
       "      <td>United States</td>\n",
       "      <td>USA</td>\n",
       "      <td>1994</td>\n",
       "      <td>4.862781</td>\n",
       "    </tr>\n",
       "  </tbody>\n",
       "</table>\n",
       "</div>"
      ],
      "text/plain": [
       "          Entity Code  Year  \\\n",
       "0  United States  USA  1990   \n",
       "1  United States  USA  1991   \n",
       "2  United States  USA  1992   \n",
       "3  United States  USA  1993   \n",
       "4  United States  USA  1994   \n",
       "\n",
       "   Individuals using the Internet (% of population) (% of population)  \n",
       "0                                           0.784729                   \n",
       "1                                           1.163194                   \n",
       "2                                           1.724203                   \n",
       "3                                           2.271673                   \n",
       "4                                           4.862781                   "
      ]
     },
     "execution_count": 8,
     "metadata": {},
     "output_type": "execute_result"
    }
   ],
   "source": [
    "technology_adaptation.head()"
   ]
  },
  {
   "cell_type": "code",
   "execution_count": 10,
   "metadata": {},
   "outputs": [],
   "source": [
    "technology_adaptation_2000 = technology_adaptation[technology_adaptation['Year'] > 1999]"
   ]
  },
  {
   "cell_type": "code",
   "execution_count": 11,
   "metadata": {},
   "outputs": [
    {
     "data": {
      "text/html": [
       "<div>\n",
       "<style scoped>\n",
       "    .dataframe tbody tr th:only-of-type {\n",
       "        vertical-align: middle;\n",
       "    }\n",
       "\n",
       "    .dataframe tbody tr th {\n",
       "        vertical-align: top;\n",
       "    }\n",
       "\n",
       "    .dataframe thead th {\n",
       "        text-align: right;\n",
       "    }\n",
       "</style>\n",
       "<table border=\"1\" class=\"dataframe\">\n",
       "  <thead>\n",
       "    <tr style=\"text-align: right;\">\n",
       "      <th></th>\n",
       "      <th>Entity</th>\n",
       "      <th>Code</th>\n",
       "      <th>Year</th>\n",
       "      <th>Individuals using the Internet (% of population) (% of population)</th>\n",
       "    </tr>\n",
       "  </thead>\n",
       "  <tbody>\n",
       "    <tr>\n",
       "      <th>10</th>\n",
       "      <td>United States</td>\n",
       "      <td>USA</td>\n",
       "      <td>2000</td>\n",
       "      <td>43.079163</td>\n",
       "    </tr>\n",
       "    <tr>\n",
       "      <th>11</th>\n",
       "      <td>United States</td>\n",
       "      <td>USA</td>\n",
       "      <td>2001</td>\n",
       "      <td>49.080832</td>\n",
       "    </tr>\n",
       "  </tbody>\n",
       "</table>\n",
       "</div>"
      ],
      "text/plain": [
       "           Entity Code  Year  \\\n",
       "10  United States  USA  2000   \n",
       "11  United States  USA  2001   \n",
       "\n",
       "    Individuals using the Internet (% of population) (% of population)  \n",
       "10                                          43.079163                   \n",
       "11                                          49.080832                   "
      ]
     },
     "execution_count": 11,
     "metadata": {},
     "output_type": "execute_result"
    }
   ],
   "source": [
    "technology_adaptation_2000.head(2)"
   ]
  },
  {
   "cell_type": "code",
   "execution_count": 12,
   "metadata": {},
   "outputs": [
    {
     "data": {
      "image/png": "[encoded data removed]",
      "text/plain": [
       "<Figure size 792x576 with 1 Axes>"
      ]
     },
     "metadata": {
      "needs_background": "light"
     },
     "output_type": "display_data"
    }
   ],
   "source": [
    "fig, ax = plt.subplots()\n",
    "fig.set_size_inches(11, 8)\n",
    "ax = sns.barplot(technology_adaptation_2000['Year'], technology_adaptation_2000['Individuals using the Internet (% of population) (% of population)'])\n",
    "\n",
    "plt.xlabel('Year', fontsize = 15)\n",
    "plt.ylabel('% of Population using interent', fontsize = 15)\n",
    "plt.title('The technological adaptation percentage by years', fontsize = 15)\n",
    "plt.show()\n"
   ]
  },
  {
   "cell_type": "markdown",
   "metadata": {},
   "source": [
    "#### Attitude towards Kiosk"
   ]
  },
  {
   "cell_type": "code",
   "execution_count": 13,
   "metadata": {},
   "outputs": [],
   "source": [
    "kiosk = pd.read_csv('nylink.csv')"
   ]
  },
  {
   "cell_type": "code",
   "execution_count": 14,
   "metadata": {},
   "outputs": [
    {
     "data": {
      "text/html": [
       "<div>\n",
       "<style scoped>\n",
       "    .dataframe tbody tr th:only-of-type {\n",
       "        vertical-align: middle;\n",
       "    }\n",
       "\n",
       "    .dataframe tbody tr th {\n",
       "        vertical-align: top;\n",
       "    }\n",
       "\n",
       "    .dataframe thead th {\n",
       "        text-align: right;\n",
       "    }\n",
       "</style>\n",
       "<table border=\"1\" class=\"dataframe\">\n",
       "  <thead>\n",
       "    <tr style=\"text-align: right;\">\n",
       "      <th></th>\n",
       "      <th>Year</th>\n",
       "      <th>Cumulative Sessions To Date</th>\n",
       "    </tr>\n",
       "  </thead>\n",
       "  <tbody>\n",
       "    <tr>\n",
       "      <th>0</th>\n",
       "      <td>2016</td>\n",
       "      <td>73839957</td>\n",
       "    </tr>\n",
       "    <tr>\n",
       "      <th>1</th>\n",
       "      <td>2017</td>\n",
       "      <td>509915691</td>\n",
       "    </tr>\n",
       "    <tr>\n",
       "      <th>2</th>\n",
       "      <td>2018</td>\n",
       "      <td>994931692</td>\n",
       "    </tr>\n",
       "  </tbody>\n",
       "</table>\n",
       "</div>"
      ],
      "text/plain": [
       "   Year  Cumulative Sessions To Date\n",
       "0  2016                     73839957\n",
       "1  2017                    509915691\n",
       "2  2018                    994931692"
      ]
     },
     "execution_count": 14,
     "metadata": {},
     "output_type": "execute_result"
    }
   ],
   "source": [
    "kiosk"
   ]
  },
  {
   "cell_type": "code",
   "execution_count": 15,
   "metadata": {},
   "outputs": [
    {
     "data": {
      "image/png": "[encoded data removed]",
      "text/plain": [
       "<Figure size 792x576 with 1 Axes>"
      ]
     },
     "metadata": {
      "needs_background": "light"
     },
     "output_type": "display_data"
    }
   ],
   "source": [
    "fig, ax = plt.subplots()\n",
    "fig.set_size_inches(11, 8)\n",
    "ax = sns.barplot(kiosk['Year'], kiosk['Cumulative Sessions To Date'])\n",
    "\n",
    "plt.xlabel('Year', fontsize = 15)\n",
    "plt.ylabel('Cumulative Session', fontsize = 15)\n",
    "plt.title('Kiosk NYLINK Usage in NYC by years ', fontsize = 15)\n",
    "plt.show()\n"
   ]
  },
  {
   "cell_type": "markdown",
   "metadata": {},
   "source": [
    "#### Attitude towards Wrist Band"
   ]
  },
  {
   "cell_type": "code",
   "execution_count": 18,
   "metadata": {
    "scrolled": false
   },
   "outputs": [
    {
     "name": "stdout",
     "output_type": "stream",
     "text": [
      "Querying from: https://api.pushshift.io/reddit/search/submission?subreddit=WaltDisneyWorld&size=500&after=30d\n",
      "Querying from: https://api.pushshift.io/reddit/search/submission?subreddit=WaltDisneyWorld&size=500&after=60d\n",
      "Querying from: https://api.pushshift.io/reddit/search/submission?subreddit=WaltDisneyWorld&size=500&after=90d\n",
      "Querying from: https://api.pushshift.io/reddit/search/submission?subreddit=WaltDisneyWorld&size=500&after=120d\n",
      "Querying from: https://api.pushshift.io/reddit/search/submission?subreddit=WaltDisneyWorld&size=500&after=150d\n",
      "Querying from: https://api.pushshift.io/reddit/search/submission?subreddit=WaltDisneyWorld&size=500&after=180d\n",
      "Querying from: https://api.pushshift.io/reddit/search/submission?subreddit=WaltDisneyWorld&size=500&after=210d\n",
      "Querying from: https://api.pushshift.io/reddit/search/submission?subreddit=WaltDisneyWorld&size=500&after=240d\n",
      "Querying from: https://api.pushshift.io/reddit/search/submission?subreddit=WaltDisneyWorld&size=500&after=270d\n",
      "Querying from: https://api.pushshift.io/reddit/search/submission?subreddit=WaltDisneyWorld&size=500&after=300d\n",
      "Querying from: https://api.pushshift.io/reddit/search/submission?subreddit=WaltDisneyWorld&size=500&after=330d\n",
      "Querying from: https://api.pushshift.io/reddit/search/submission?subreddit=WaltDisneyWorld&size=500&after=360d\n",
      "Querying from: https://api.pushshift.io/reddit/search/submission?subreddit=WaltDisneyWorld&size=500&after=390d\n",
      "Querying from: https://api.pushshift.io/reddit/search/submission?subreddit=WaltDisneyWorld&size=500&after=420d\n",
      "Querying from: https://api.pushshift.io/reddit/search/submission?subreddit=WaltDisneyWorld&size=500&after=450d\n",
      "Querying from: https://api.pushshift.io/reddit/search/submission?subreddit=WaltDisneyWorld&size=500&after=480d\n",
      "Querying from: https://api.pushshift.io/reddit/search/submission?subreddit=WaltDisneyWorld&size=500&after=510d\n",
      "Querying from: https://api.pushshift.io/reddit/search/submission?subreddit=WaltDisneyWorld&size=500&after=540d\n",
      "Querying from: https://api.pushshift.io/reddit/search/submission?subreddit=WaltDisneyWorld&size=500&after=570d\n",
      "Querying from: https://api.pushshift.io/reddit/search/submission?subreddit=WaltDisneyWorld&size=500&after=600d\n",
      "Query Complete!\n"
     ]
    }
   ],
   "source": [
    "disney = query_pushshift(\"WaltDisneyWorld\")"
   ]
  },
  {
   "cell_type": "code",
   "execution_count": 19,
   "metadata": {},
   "outputs": [],
   "source": [
    "disney.to_csv(\"./disney.csv\", index = False)"
   ]
  },
  {
   "cell_type": "code",
   "execution_count": 23,
   "metadata": {
    "scrolled": true
   },
   "outputs": [
    {
     "data": {
      "text/html": [
       "<div>\n",
       "<style scoped>\n",
       "    .dataframe tbody tr th:only-of-type {\n",
       "        vertical-align: middle;\n",
       "    }\n",
       "\n",
       "    .dataframe tbody tr th {\n",
       "        vertical-align: top;\n",
       "    }\n",
       "\n",
       "    .dataframe thead th {\n",
       "        text-align: right;\n",
       "    }\n",
       "</style>\n",
       "<table border=\"1\" class=\"dataframe\">\n",
       "  <thead>\n",
       "    <tr style=\"text-align: right;\">\n",
       "      <th></th>\n",
       "      <th>title</th>\n",
       "      <th>selftext</th>\n",
       "      <th>subreddit</th>\n",
       "      <th>created_utc</th>\n",
       "      <th>author</th>\n",
       "      <th>is_self</th>\n",
       "      <th>timestamp</th>\n",
       "    </tr>\n",
       "  </thead>\n",
       "  <tbody>\n",
       "    <tr>\n",
       "      <th>0</th>\n",
       "      <td>Booking for 2021 - Covid restrictions?</td>\n",
       "      <td>[removed]</td>\n",
       "      <td>WaltDisneyWorld</td>\n",
       "      <td>1592852289</td>\n",
       "      <td>J_Rhix</td>\n",
       "      <td>True</td>\n",
       "      <td>2020-06-22</td>\n",
       "    </tr>\n",
       "    <tr>\n",
       "      <th>1</th>\n",
       "      <td>Can’t buy an annual pass!</td>\n",
       "      <td>[removed]</td>\n",
       "      <td>WaltDisneyWorld</td>\n",
       "      <td>1592855002</td>\n",
       "      <td>Dudeman1919</td>\n",
       "      <td>True</td>\n",
       "      <td>2020-06-22</td>\n",
       "    </tr>\n",
       "  </tbody>\n",
       "</table>\n",
       "</div>"
      ],
      "text/plain": [
       "                                    title   selftext        subreddit  \\\n",
       "0  Booking for 2021 - Covid restrictions?  [removed]  WaltDisneyWorld   \n",
       "1               Can’t buy an annual pass!  [removed]  WaltDisneyWorld   \n",
       "\n",
       "   created_utc       author  is_self   timestamp  \n",
       "0   1592852289       J_Rhix     True  2020-06-22  \n",
       "1   1592855002  Dudeman1919     True  2020-06-22  "
      ]
     },
     "execution_count": 23,
     "metadata": {},
     "output_type": "execute_result"
    }
   ],
   "source": [
    "disney.head(2) "
   ]
  },
  {
   "cell_type": "code",
   "execution_count": 26,
   "metadata": {},
   "outputs": [],
   "source": [
    "count_vect = CountVectorizer(\n",
    "                             analyzer = \"word\", \n",
    "                             stop_words = \"english\", \n",
    "                             max_features = 20,\n",
    "                             ngram_range= (2,2)\n",
    "                            )\n",
    "\n",
    "df_words = count_vect.fit_transform(disney['title'])  #fit_transform the vectorizer\n",
    "df_words = df_words.toarray() #output\n",
    "covec_df = pd.DataFrame(df_words, columns = count_vect.get_feature_names())"
   ]
  },
  {
   "cell_type": "code",
   "execution_count": 27,
   "metadata": {},
   "outputs": [],
   "source": [
    "covec_df = pd.DataFrame(df_words, columns = count_vect.get_feature_names()) # creating a dataframe"
   ]
  },
  {
   "cell_type": "code",
   "execution_count": 30,
   "metadata": {},
   "outputs": [
    {
     "data": {
      "text/plain": [
       "Text(0, 0.5, 'words')"
      ]
     },
     "execution_count": 30,
     "metadata": {},
     "output_type": "execute_result"
    },
    {
     "data": {
      "image/png": "[encoded data removed]",
      "text/plain": [
       "<Figure size 864x864 with 1 Axes>"
      ]
     },
     "metadata": {},
     "output_type": "display_data"
    }
   ],
   "source": [
    "#plotting the most frequent words in the title in corpus\n",
    "\n",
    "plt.style.use('seaborn')\n",
    "plt.figure(figsize = (12,12))\n",
    "covec_df.sum().sort_values(ascending=False)[:15].plot(kind = 'barh', color ='g', fontsize = 15)\n",
    "plt.title(\"20 Most frequent Words used in the titles in corpus\", fontsize = 20)\n",
    "plt.xlabel('Frequency', fontsize =20)\n",
    "plt.ylabel ('words', fontsize = 20)"
   ]
  },
  {
   "cell_type": "code",
   "execution_count": 32,
   "metadata": {},
   "outputs": [],
   "source": [
    "magic_band = pd.read_csv('./magic_band_2.csv')"
   ]
  },
  {
   "cell_type": "code",
   "execution_count": 34,
   "metadata": {},
   "outputs": [],
   "source": [
    "base = './'\n",
    "sentiment_score_magic_band = df_sentiment_compiler('magic_band.csv', base)"
   ]
  },
  {
   "cell_type": "code",
   "execution_count": 39,
   "metadata": {},
   "outputs": [],
   "source": [
    "data = [['positive score', sentiment_score_magic_band['pos_score'].mean()], \\\n",
    "                ['negative score', sentiment_score_magic_band['neg_score'].mean()], \\\n",
    "            ['neutral score', sentiment_score_magic_band['neu_score'].mean()]]\n",
    "df = pd.DataFrame(data, columns = ['sentiments', 'scores'])"
   ]
  },
  {
   "cell_type": "code",
   "execution_count": 44,
   "metadata": {},
   "outputs": [
    {
     "data": {
      "text/html": [
       "<div>\n",
       "<style scoped>\n",
       "    .dataframe tbody tr th:only-of-type {\n",
       "        vertical-align: middle;\n",
       "    }\n",
       "\n",
       "    .dataframe tbody tr th {\n",
       "        vertical-align: top;\n",
       "    }\n",
       "\n",
       "    .dataframe thead th {\n",
       "        text-align: right;\n",
       "    }\n",
       "</style>\n",
       "<table border=\"1\" class=\"dataframe\">\n",
       "  <thead>\n",
       "    <tr style=\"text-align: right;\">\n",
       "      <th></th>\n",
       "      <th>sentiments</th>\n",
       "      <th>scores</th>\n",
       "    </tr>\n",
       "  </thead>\n",
       "  <tbody>\n",
       "    <tr>\n",
       "      <th>0</th>\n",
       "      <td>positive score</td>\n",
       "      <td>0.110517</td>\n",
       "    </tr>\n",
       "    <tr>\n",
       "      <th>1</th>\n",
       "      <td>negative score</td>\n",
       "      <td>0.036849</td>\n",
       "    </tr>\n",
       "    <tr>\n",
       "      <th>2</th>\n",
       "      <td>neutral score</td>\n",
       "      <td>0.852634</td>\n",
       "    </tr>\n",
       "  </tbody>\n",
       "</table>\n",
       "</div>"
      ],
      "text/plain": [
       "       sentiments    scores\n",
       "0  positive score  0.110517\n",
       "1  negative score  0.036849\n",
       "2   neutral score  0.852634"
      ]
     },
     "execution_count": 44,
     "metadata": {},
     "output_type": "execute_result"
    }
   ],
   "source": [
    "df"
   ]
  },
  {
   "cell_type": "code",
   "execution_count": 50,
   "metadata": {},
   "outputs": [
    {
     "data": {
      "text/plain": [
       "Text(0, 0.5, 'scores')"
      ]
     },
     "execution_count": 50,
     "metadata": {},
     "output_type": "execute_result"
    },
    {
     "data": {
      "image/png": "[encoded data removed]",
      "text/plain": [
       "<Figure size 576x396 with 1 Axes>"
      ]
     },
     "metadata": {},
     "output_type": "display_data"
    }
   ],
   "source": [
    "sns.barplot(x = [ 'Positive emotion', 'negative emotion', 'neutral emotion'], y = df['scores'])\n",
    "plt.title(\"sentiment score of magic-band related posts' title\", fontsize = 20)\n",
    "plt.xlabel('emotions', fontsize =15)\n",
    "plt.ylabel ('scores', fontsize = 15)"
   ]
  },
  {
   "cell_type": "markdown",
   "metadata": {},
   "source": [
    "#### Attitude towards Mask"
   ]
  },
  {
   "cell_type": "code",
   "execution_count": 51,
   "metadata": {},
   "outputs": [
    {
     "name": "stdout",
     "output_type": "stream",
     "text": [
      "Querying from: https://api.pushshift.io/reddit/search/submission?subreddit=Masks&size=500&after=30d\n",
      "Querying from: https://api.pushshift.io/reddit/search/submission?subreddit=Masks&size=500&after=60d\n",
      "Querying from: https://api.pushshift.io/reddit/search/submission?subreddit=Masks&size=500&after=90d\n",
      "Querying from: https://api.pushshift.io/reddit/search/submission?subreddit=Masks&size=500&after=120d\n",
      "Querying from: https://api.pushshift.io/reddit/search/submission?subreddit=Masks&size=500&after=150d\n",
      "Querying from: https://api.pushshift.io/reddit/search/submission?subreddit=Masks&size=500&after=180d\n",
      "Querying from: https://api.pushshift.io/reddit/search/submission?subreddit=Masks&size=500&after=210d\n",
      "Querying from: https://api.pushshift.io/reddit/search/submission?subreddit=Masks&size=500&after=240d\n",
      "Querying from: https://api.pushshift.io/reddit/search/submission?subreddit=Masks&size=500&after=270d\n",
      "Querying from: https://api.pushshift.io/reddit/search/submission?subreddit=Masks&size=500&after=300d\n",
      "Querying from: https://api.pushshift.io/reddit/search/submission?subreddit=Masks&size=500&after=330d\n",
      "Querying from: https://api.pushshift.io/reddit/search/submission?subreddit=Masks&size=500&after=360d\n",
      "Querying from: https://api.pushshift.io/reddit/search/submission?subreddit=Masks&size=500&after=390d\n",
      "Querying from: https://api.pushshift.io/reddit/search/submission?subreddit=Masks&size=500&after=420d\n",
      "Querying from: https://api.pushshift.io/reddit/search/submission?subreddit=Masks&size=500&after=450d\n",
      "Querying from: https://api.pushshift.io/reddit/search/submission?subreddit=Masks&size=500&after=480d\n",
      "Querying from: https://api.pushshift.io/reddit/search/submission?subreddit=Masks&size=500&after=510d\n",
      "Querying from: https://api.pushshift.io/reddit/search/submission?subreddit=Masks&size=500&after=540d\n",
      "Querying from: https://api.pushshift.io/reddit/search/submission?subreddit=Masks&size=500&after=570d\n",
      "Querying from: https://api.pushshift.io/reddit/search/submission?subreddit=Masks&size=500&after=600d\n",
      "Query Complete!\n"
     ]
    }
   ],
   "source": [
    "mask = query_pushshift(\"Masks\")"
   ]
  },
  {
   "cell_type": "code",
   "execution_count": 53,
   "metadata": {},
   "outputs": [],
   "source": [
    "mask.to_csv(\"./mask.csv\", index = False)"
   ]
  },
  {
   "cell_type": "code",
   "execution_count": 56,
   "metadata": {},
   "outputs": [],
   "source": [
    "mask_df = pd.read_csv('./mask.csv')"
   ]
  },
  {
   "cell_type": "code",
   "execution_count": 58,
   "metadata": {},
   "outputs": [],
   "source": [
    "base = './'\n",
    "sentiment_score_maks = df_sentiment_compiler('mask.csv', base)"
   ]
  },
  {
   "cell_type": "code",
   "execution_count": 69,
   "metadata": {},
   "outputs": [],
   "source": [
    "data_2 = [['positive score', sentiment_score_maks['pos_score'].mean()], \\\n",
    "                ['negative score', sentiment_score_maks['neg_score'].mean()], \\\n",
    "            ['neutral score', sentiment_score_maks['neu_score'].mean()]]\n",
    "df_2 = pd.DataFrame(data, columns = ['sentiments', 'scores'])"
   ]
  },
  {
   "cell_type": "code",
   "execution_count": 70,
   "metadata": {},
   "outputs": [
    {
     "data": {
      "text/html": [
       "<div>\n",
       "<style scoped>\n",
       "    .dataframe tbody tr th:only-of-type {\n",
       "        vertical-align: middle;\n",
       "    }\n",
       "\n",
       "    .dataframe tbody tr th {\n",
       "        vertical-align: top;\n",
       "    }\n",
       "\n",
       "    .dataframe thead th {\n",
       "        text-align: right;\n",
       "    }\n",
       "</style>\n",
       "<table border=\"1\" class=\"dataframe\">\n",
       "  <thead>\n",
       "    <tr style=\"text-align: right;\">\n",
       "      <th></th>\n",
       "      <th>sentiments</th>\n",
       "      <th>scores</th>\n",
       "    </tr>\n",
       "  </thead>\n",
       "  <tbody>\n",
       "    <tr>\n",
       "      <th>0</th>\n",
       "      <td>positive score</td>\n",
       "      <td>0.121506</td>\n",
       "    </tr>\n",
       "    <tr>\n",
       "      <th>1</th>\n",
       "      <td>negative score</td>\n",
       "      <td>0.037406</td>\n",
       "    </tr>\n",
       "    <tr>\n",
       "      <th>2</th>\n",
       "      <td>neutral score</td>\n",
       "      <td>0.841096</td>\n",
       "    </tr>\n",
       "  </tbody>\n",
       "</table>\n",
       "</div>"
      ],
      "text/plain": [
       "       sentiments    scores\n",
       "0  positive score  0.121506\n",
       "1  negative score  0.037406\n",
       "2   neutral score  0.841096"
      ]
     },
     "execution_count": 70,
     "metadata": {},
     "output_type": "execute_result"
    }
   ],
   "source": [
    "df_2"
   ]
  },
  {
   "cell_type": "code",
   "execution_count": 84,
   "metadata": {
    "scrolled": false
   },
   "outputs": [
    {
     "data": {
      "text/plain": [
       "Text(0, 0.5, 'scores')"
      ]
     },
     "execution_count": 84,
     "metadata": {},
     "output_type": "execute_result"
    },
    {
     "data": {
      "image/png": "[encoded data removed]",
      "text/plain": [
       "<Figure size 576x396 with 1 Axes>"
      ]
     },
     "metadata": {},
     "output_type": "display_data"
    }
   ],
   "source": [
    "sns.barplot(x = [ 'Positive emotion', 'negative emotion', 'neutral emotion'], y = df_2['scores'])\n",
    "plt.title(\"sentiment score of mask related posts' title\", fontsize = 20)\n",
    "plt.xlabel('emotions', fontsize =15)\n",
    "plt.ylabel ('scores', fontsize = 15)"
   ]
  },
  {
   "cell_type": "markdown",
   "metadata": {},
   "source": [
    "#### Attitude towards social distancing "
   ]
  },
  {
   "cell_type": "code",
   "execution_count": 65,
   "metadata": {},
   "outputs": [],
   "source": [
    "twitter_data = pd.read_csv('./tweet/shaved_nyc.csv')"
   ]
  },
  {
   "cell_type": "code",
   "execution_count": 66,
   "metadata": {},
   "outputs": [],
   "source": [
    "social_distancing_data = twitter_data[twitter_data['search_term'] == 'social distancing']"
   ]
  },
  {
   "cell_type": "code",
   "execution_count": 68,
   "metadata": {},
   "outputs": [
    {
     "data": {
      "text/html": [
       "<div>\n",
       "<style scoped>\n",
       "    .dataframe tbody tr th:only-of-type {\n",
       "        vertical-align: middle;\n",
       "    }\n",
       "\n",
       "    .dataframe tbody tr th {\n",
       "        vertical-align: top;\n",
       "    }\n",
       "\n",
       "    .dataframe thead th {\n",
       "        text-align: right;\n",
       "    }\n",
       "</style>\n",
       "<table border=\"1\" class=\"dataframe\">\n",
       "  <thead>\n",
       "    <tr style=\"text-align: right;\">\n",
       "      <th></th>\n",
       "      <th>tweet_id</th>\n",
       "      <th>text</th>\n",
       "      <th>tweet_date</th>\n",
       "      <th>search_term</th>\n",
       "      <th>city</th>\n",
       "      <th>lat</th>\n",
       "      <th>long</th>\n",
       "      <th>radius</th>\n",
       "      <th>query_start</th>\n",
       "    </tr>\n",
       "  </thead>\n",
       "  <tbody>\n",
       "    <tr>\n",
       "      <th>1</th>\n",
       "      <td>1.251990e+18</td>\n",
       "      <td>all these morons going outside and protesting ...</td>\n",
       "      <td>19/04/2020 21:33</td>\n",
       "      <td>social distancing</td>\n",
       "      <td>{'city': 'New York city', 'lat': 40.7128, 'lon...</td>\n",
       "      <td>40.7128</td>\n",
       "      <td>-74.006</td>\n",
       "      <td>10mi</td>\n",
       "      <td>12/04/2020 00:00</td>\n",
       "    </tr>\n",
       "    <tr>\n",
       "      <th>27</th>\n",
       "      <td>1.253090e+18</td>\n",
       "      <td>Quarantine bored  #coronavirus #boredinthehous...</td>\n",
       "      <td>22/04/2020 22:53</td>\n",
       "      <td>social distancing</td>\n",
       "      <td>{'city': 'New York city', 'lat': 40.7128, 'lon...</td>\n",
       "      <td>40.7128</td>\n",
       "      <td>-74.006</td>\n",
       "      <td>10mi</td>\n",
       "      <td>12/04/2020 00:00</td>\n",
       "    </tr>\n",
       "  </tbody>\n",
       "</table>\n",
       "</div>"
      ],
      "text/plain": [
       "        tweet_id                                               text  \\\n",
       "1   1.251990e+18  all these morons going outside and protesting ...   \n",
       "27  1.253090e+18  Quarantine bored  #coronavirus #boredinthehous...   \n",
       "\n",
       "          tweet_date        search_term  \\\n",
       "1   19/04/2020 21:33  social distancing   \n",
       "27  22/04/2020 22:53  social distancing   \n",
       "\n",
       "                                                 city      lat    long radius  \\\n",
       "1   {'city': 'New York city', 'lat': 40.7128, 'lon...  40.7128 -74.006   10mi   \n",
       "27  {'city': 'New York city', 'lat': 40.7128, 'lon...  40.7128 -74.006   10mi   \n",
       "\n",
       "         query_start  \n",
       "1   12/04/2020 00:00  \n",
       "27  12/04/2020 00:00  "
      ]
     },
     "execution_count": 68,
     "metadata": {},
     "output_type": "execute_result"
    }
   ],
   "source": [
    "social_distancing_data.head(2)"
   ]
  },
  {
   "cell_type": "code",
   "execution_count": 78,
   "metadata": {},
   "outputs": [],
   "source": [
    "base = './tweet/'\n",
    "sentiment_score_social_distancing =df_sentiment_compiler('shaved_nyc.csv', base)"
   ]
  },
  {
   "cell_type": "code",
   "execution_count": 79,
   "metadata": {},
   "outputs": [],
   "source": [
    "data_3 = [['positive score', sentiment_score_social_distancing['pos_score'].mean()], \\\n",
    "                ['negative score', sentiment_score_social_distancing['neg_score'].mean()], \\\n",
    "            ['neutral score', sentiment_score_social_distancing['neu_score'].mean()]]\n",
    "df_3 = pd.DataFrame(data, columns = ['sentiments', 'scores'])"
   ]
  },
  {
   "cell_type": "code",
   "execution_count": 83,
   "metadata": {},
   "outputs": [
    {
     "data": {
      "text/html": [
       "<div>\n",
       "<style scoped>\n",
       "    .dataframe tbody tr th:only-of-type {\n",
       "        vertical-align: middle;\n",
       "    }\n",
       "\n",
       "    .dataframe tbody tr th {\n",
       "        vertical-align: top;\n",
       "    }\n",
       "\n",
       "    .dataframe thead th {\n",
       "        text-align: right;\n",
       "    }\n",
       "</style>\n",
       "<table border=\"1\" class=\"dataframe\">\n",
       "  <thead>\n",
       "    <tr style=\"text-align: right;\">\n",
       "      <th></th>\n",
       "      <th>sentiments</th>\n",
       "      <th>scores</th>\n",
       "    </tr>\n",
       "  </thead>\n",
       "  <tbody>\n",
       "    <tr>\n",
       "      <th>0</th>\n",
       "      <td>positive score</td>\n",
       "      <td>0.121506</td>\n",
       "    </tr>\n",
       "    <tr>\n",
       "      <th>1</th>\n",
       "      <td>negative score</td>\n",
       "      <td>0.037406</td>\n",
       "    </tr>\n",
       "    <tr>\n",
       "      <th>2</th>\n",
       "      <td>neutral score</td>\n",
       "      <td>0.841096</td>\n",
       "    </tr>\n",
       "  </tbody>\n",
       "</table>\n",
       "</div>"
      ],
      "text/plain": [
       "       sentiments    scores\n",
       "0  positive score  0.121506\n",
       "1  negative score  0.037406\n",
       "2   neutral score  0.841096"
      ]
     },
     "execution_count": 83,
     "metadata": {},
     "output_type": "execute_result"
    }
   ],
   "source": [
    "df_3"
   ]
  },
  {
   "cell_type": "code",
   "execution_count": 85,
   "metadata": {},
   "outputs": [
    {
     "data": {
      "text/plain": [
       "Text(0, 0.5, 'scores')"
      ]
     },
     "execution_count": 85,
     "metadata": {},
     "output_type": "execute_result"
    },
    {
     "data": {
      "image/png": "[encoded data removed]",
      "text/plain": [
       "<Figure size 576x396 with 1 Axes>"
      ]
     },
     "metadata": {},
     "output_type": "display_data"
    }
   ],
   "source": [
    "sns.barplot(x = [ 'Positive emotion', 'negative emotion', 'neutral emotion'], y = df_3['scores'])\n",
    "plt.title(\"sentiment score of social distance related posts' title\", fontsize = 20)\n",
    "plt.xlabel('emotions', fontsize =15)\n",
    "plt.ylabel ('scores', fontsize = 15)"
   ]
  }
 ],
 "metadata": {
  "kernelspec": {
   "display_name": "Python 3",
   "language": "python",
   "name": "python3"
  },
  "language_info": {
   "codemirror_mode": {
    "name": "ipython",
    "version": 3
   },
   "file_extension": ".py",
   "mimetype": "text/x-python",
   "name": "python",
   "nbconvert_exporter": "python",
   "pygments_lexer": "ipython3",
   "version": "3.7.6"
  }
 },
 "nbformat": 4,
 "nbformat_minor": 4
}
